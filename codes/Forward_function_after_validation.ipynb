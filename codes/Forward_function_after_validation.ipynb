{
 "cells": [
  {
   "cell_type": "code",
   "execution_count": 1,
   "id": "5119770a",
   "metadata": {},
   "outputs": [],
   "source": [
    "import fenics as fn\n",
    "import numpy as np\n",
    "\n",
    "from scipy import sparse as sp\n",
    "from scipy.sparse.linalg import spsolve\n",
    "\n",
    "from matplotlib import pyplot as plt\n",
    "from time import time"
   ]
  },
  {
   "cell_type": "markdown",
   "id": "598a3c6e",
   "metadata": {},
   "source": [
    "**Assumptions:**\n",
    "- In this code, we asumme all the impedances $z:=(z_1,\\dots,z_{L})$ are equal to one, i.e., $z_j = 1$ for all $i=1,\\dots,L$."
   ]
  },
  {
   "cell_type": "code",
   "execution_count": 2,
   "id": "9e0af10b",
   "metadata": {},
   "outputs": [],
   "source": [
    "Ne = 5*20 #10*3 #10*3\n",
    "# Conductivity\n",
    "gamma = [1.,1.,1.,1.,1.,\n",
    "         1.,1.,9.,1.,1.,\n",
    "         1.,1.,1.,1.,1.,\n",
    "         1.,1.,1.,1.,1.,\n",
    "         1.,1.,1.,1.,1.]\n",
    "# Impedance\n",
    "#z = [1.]\n",
    "# Tolerance \n",
    "tol = 1E-14"
   ]
  },
  {
   "cell_type": "code",
   "execution_count": 3,
   "id": "4cac272e",
   "metadata": {},
   "outputs": [
    {
     "data": {
      "text/plain": [
       "25"
      ]
     },
     "execution_count": 3,
     "metadata": {},
     "output_type": "execute_result"
    }
   ],
   "source": [
    "len(gamma)"
   ]
  },
  {
   "cell_type": "markdown",
   "id": "b27d0a2b",
   "metadata": {},
   "source": [
    "**Mesh**"
   ]
  },
  {
   "cell_type": "code",
   "execution_count": 4,
   "id": "eacc89ed",
   "metadata": {},
   "outputs": [
    {
     "data": {
      "image/png": "[encoded data removed]",
      "text/plain": [
       "<Figure size 432x288 with 1 Axes>"
      ]
     },
     "metadata": {
      "needs_background": "light"
     },
     "output_type": "display_data"
    }
   ],
   "source": [
    "#\n",
    "h = 1/Ne\n",
    "#\n",
    "mesh = fn.UnitSquareMesh(Ne,Ne)\n",
    "#\n",
    "fn.plot(mesh)\n",
    "plt.show()"
   ]
  },
  {
   "cell_type": "markdown",
   "id": "50d730e0",
   "metadata": {},
   "source": [
    "**Discrete spaces**"
   ]
  },
  {
   "cell_type": "code",
   "execution_count": 5,
   "id": "a3be1090",
   "metadata": {},
   "outputs": [],
   "source": [
    "Uh = fn.FunctionSpace(mesh,'CG',1)\n",
    "#Eh = fn.FunctionSpace(mesh,'DG',0)\n",
    "#\n",
    "DofUh = Uh.dim()"
   ]
  },
  {
   "cell_type": "code",
   "execution_count": 6,
   "id": "17c6bf08",
   "metadata": {},
   "outputs": [
    {
     "data": {
      "text/plain": [
       "10201"
      ]
     },
     "execution_count": 6,
     "metadata": {},
     "output_type": "execute_result"
    }
   ],
   "source": [
    "DofUh"
   ]
  },
  {
   "cell_type": "markdown",
   "id": "e99d8fe4",
   "metadata": {},
   "source": [
    "**Subdomains**"
   ]
  },
  {
   "cell_type": "code",
   "execution_count": 7,
   "id": "4f3a18a7",
   "metadata": {},
   "outputs": [],
   "source": [
    "#############################################################################################################\n",
    "Omega_01_str = '(0.0 - tol <= x[0] && x[0] <= 0.2 + tol && 0.0 - tol <= x[1] && x[1] <= 0.2 + tol) ? 1. : 0.'\n",
    "Omega_01 = fn.Expression(Omega_01_str, degree=0, tol=tol)\n",
    "#\n",
    "Omega_02_str = '(0.2 - tol <= x[0] && x[0] <= 0.4 + tol && 0.0 - tol <= x[1] && x[1] <= 0.2 + tol) ? 1. : 0.'\n",
    "Omega_02 = fn.Expression(Omega_02_str, degree=0, tol=tol)\n",
    "#\n",
    "Omega_03_str = '(0.4 - tol <= x[0] && x[0] <= 0.6 + tol && 0.0 - tol <= x[1] && x[1] <= 0.2 + tol) ? 1. : 0.'\n",
    "Omega_03 = fn.Expression(Omega_03_str, degree=0, tol=tol)\n",
    "#\n",
    "Omega_04_str = '(0.6 - tol <= x[0] && x[0] <= 0.8 + tol && 0.0 - tol <= x[1] && x[1] <= 0.2 + tol) ? 1. : 0.'\n",
    "Omega_04 = fn.Expression(Omega_04_str, degree=0, tol=tol)\n",
    "#\n",
    "Omega_05_str = '(0.8 - tol <= x[0] && x[0] <= 1.0 + tol && 0.0 - tol <= x[1] && x[1] <= 0.2 + tol) ? 1. : 0.'\n",
    "Omega_05 = fn.Expression(Omega_05_str, degree=0, tol=tol)\n",
    "#############################################################################################################\n",
    "Omega_06_str = '(0.0 - tol <= x[0] && x[0] <= 0.2 + tol && 0.2 - tol <= x[1] && x[1] <= 0.4 + tol) ? 1. : 0.'\n",
    "Omega_06 = fn.Expression(Omega_06_str, degree=0, tol=tol)\n",
    "#\n",
    "Omega_07_str = '(0.2 - tol <= x[0] && x[0] <= 0.4 + tol && 0.2 - tol <= x[1] && x[1] <= 0.4 + tol) ? 1. : 0.'\n",
    "Omega_07 = fn.Expression(Omega_07_str, degree=0, tol=tol)\n",
    "#\n",
    "Omega_08_str = '(0.4 - tol <= x[0] && x[0] <= 0.6 + tol && 0.2 - tol <= x[1] && x[1] <= 0.4 + tol) ? 1. : 0.'\n",
    "Omega_08 = fn.Expression(Omega_08_str, degree=0, tol=tol)\n",
    "#\n",
    "Omega_09_str = '(0.6 - tol <= x[0] && x[0] <= 0.8 + tol && 0.2 - tol <= x[1] && x[1] <= 0.4 + tol) ? 1. : 0.'\n",
    "Omega_09 = fn.Expression(Omega_09_str, degree=0, tol=tol)\n",
    "#\n",
    "Omega_10_str = '(0.8 - tol <= x[0] && x[0] <= 1.0 + tol && 0.2 - tol <= x[1] && x[1] <= 0.4 + tol) ? 1. : 0.'\n",
    "Omega_10 = fn.Expression(Omega_10_str, degree=0, tol=tol)\n",
    "#############################################################################################################\n",
    "Omega_11_str = '(0.0 - tol <= x[0] && x[0] <= 0.2 + tol && 0.4 - tol <= x[1] && x[1] <= 0.6 + tol) ? 1. : 0.'\n",
    "Omega_11 = fn.Expression(Omega_11_str, degree=0, tol=tol)\n",
    "#\n",
    "Omega_12_str = '(0.2 - tol <= x[0] && x[0] <= 0.4 + tol && 0.4 - tol <= x[1] && x[1] <= 0.6 + tol) ? 1. : 0.'\n",
    "Omega_12 = fn.Expression(Omega_12_str, degree=0, tol=tol)\n",
    "#\n",
    "Omega_13_str = '(0.4 - tol <= x[0] && x[0] <= 0.6 + tol && 0.4 - tol <= x[1] && x[1] <= 0.6 + tol) ? 1. : 0.'\n",
    "Omega_13 = fn.Expression(Omega_13_str, degree=0, tol=tol)\n",
    "#\n",
    "Omega_14_str = '(0.6 - tol <= x[0] && x[0] <= 0.8 + tol && 0.4 - tol <= x[1] && x[1] <= 0.6 + tol) ? 1. : 0.'\n",
    "Omega_14 = fn.Expression(Omega_14_str, degree=0, tol=tol)\n",
    "#\n",
    "Omega_15_str = '(0.8 - tol <= x[0] && x[0] <= 1.0 + tol && 0.4 - tol <= x[1] && x[1] <= 0.6 + tol) ? 1. : 0.'\n",
    "Omega_15 = fn.Expression(Omega_15_str, degree=0, tol=tol)\n",
    "#############################################################################################################\n",
    "Omega_16_str = '(0.0 - tol <= x[0] && x[0] <= 0.2 + tol && 0.6 - tol <= x[1] && x[1] <= 0.8 + tol) ? 1. : 0.'\n",
    "Omega_16 = fn.Expression(Omega_16_str, degree=0, tol=tol)\n",
    "#\n",
    "Omega_17_str = '(0.2 - tol <= x[0] && x[0] <= 0.4 + tol && 0.6 - tol <= x[1] && x[1] <= 0.8 + tol) ? 1. : 0.'\n",
    "Omega_17 = fn.Expression(Omega_17_str, degree=0, tol=tol)\n",
    "#\n",
    "Omega_18_str = '(0.4 - tol <= x[0] && x[0] <= 0.6 + tol && 0.6 - tol <= x[1] && x[1] <= 0.8 + tol) ? 1. : 0.'\n",
    "Omega_18 = fn.Expression(Omega_18_str, degree=0, tol=tol)\n",
    "#\n",
    "Omega_19_str = '(0.6 - tol <= x[0] && x[0] <= 0.8 + tol && 0.6 - tol <= x[1] && x[1] <= 0.8 + tol) ? 1. : 0.'\n",
    "Omega_19 = fn.Expression(Omega_19_str, degree=0, tol=tol)\n",
    "#\n",
    "Omega_20_str = '(0.8 - tol <= x[0] && x[0] <= 1.0 + tol && 0.6 - tol <= x[1] && x[1] <= 0.8 + tol) ? 1. : 0.'\n",
    "Omega_20 = fn.Expression(Omega_20_str, degree=0, tol=tol)\n",
    "#############################################################################################################\n",
    "Omega_21_str = '(0.0 - tol <= x[0] && x[0] <= 0.2 + tol && 0.8 - tol <= x[1] && x[1] <= 1.0 + tol) ? 1. : 0.'\n",
    "Omega_21 = fn.Expression(Omega_21_str, degree=0, tol=tol)\n",
    "#\n",
    "Omega_22_str = '(0.2 - tol <= x[0] && x[0] <= 0.4 + tol && 0.8 - tol <= x[1] && x[1] <= 1.0 + tol) ? 1. : 0.'\n",
    "Omega_22 = fn.Expression(Omega_22_str, degree=0, tol=tol)\n",
    "#\n",
    "Omega_23_str = '(0.4 - tol <= x[0] && x[0] <= 0.6 + tol && 0.8 - tol <= x[1] && x[1] <= 1.0 + tol) ? 1. : 0.'\n",
    "Omega_23 = fn.Expression(Omega_23_str, degree=0, tol=tol)\n",
    "#\n",
    "Omega_24_str = '(0.6 - tol <= x[0] && x[0] <= 0.8 + tol && 0.8 - tol <= x[1] && x[1] <= 1.0 + tol) ? 1. : 0.'\n",
    "Omega_24 = fn.Expression(Omega_24_str, degree=0, tol=tol)\n",
    "#\n",
    "Omega_25_str = '(0.8 - tol <= x[0] && x[0] <= 1.0 + tol && 0.8 - tol <= x[1] && x[1] <= 1.0 + tol) ? 1. : 0.'\n",
    "Omega_25 = fn.Expression(Omega_25_str, degree=0, tol=tol)\n",
    "#############################################################################################################\n",
    "Omega_list = [Omega_01,Omega_02,Omega_03,Omega_04,Omega_05,Omega_06,Omega_07,Omega_08,Omega_09,Omega_10,\n",
    "              Omega_11,Omega_12,Omega_13,Omega_14,Omega_15,Omega_16,Omega_17,Omega_18,Omega_19,Omega_20,\n",
    "              Omega_21,Omega_22,Omega_23,Omega_24,Omega_25]\n",
    "N_Omega = len(Omega_list)"
   ]
  },
  {
   "cell_type": "markdown",
   "id": "a4729322",
   "metadata": {},
   "source": [
    "**Conductivity**"
   ]
  },
  {
   "cell_type": "code",
   "execution_count": 8,
   "id": "887899e8",
   "metadata": {},
   "outputs": [],
   "source": [
    "# Is a piecewise constant function given by gamma, \n",
    "# we don't need the Expression anymore!"
   ]
  },
  {
   "cell_type": "markdown",
   "id": "a3ac1586",
   "metadata": {},
   "source": [
    "**Electrodes**"
   ]
  },
  {
   "cell_type": "code",
   "execution_count": 9,
   "id": "607aa46a",
   "metadata": {},
   "outputs": [],
   "source": [
    "# bottom\n",
    "e1_str = '(0.2 - tol <= x[0] && x[0] <= 0.4 + tol && 0. - tol <= x[1] && x[1] <= h + tol) ? 1. : 0.'\n",
    "e1 = fn.Expression(e1_str,degree=0,h=h,tol=tol)\n",
    "#\n",
    "e2_str = '(0.6 - tol <= x[0] && x[0] <= 0.8 + tol && 0. - tol <= x[1] && x[1] <= h + tol) ? 1. : 0.'\n",
    "e2 = fn.Expression(e2_str,degree=0,h=h,tol=tol)\n",
    "# right\n",
    "e3_str = '(1.-h - tol <= x[0] && x[0] <= 1. + tol && 0.2 - tol <= x[1] && x[1] <= 0.4 + tol) ? 1. : 0.'\n",
    "e3 = fn.Expression(e3_str,degree=0,h=h,tol=tol)\n",
    "#\n",
    "e4_str = '(1.-h - tol <= x[0] && x[0] <= 1. + tol && 0.6 - tol <= x[1] && x[1] <= 0.8 + tol) ? 1. : 0.'\n",
    "e4 = fn.Expression(e4_str,degree=0,h=h,tol=tol)\n",
    "# top\n",
    "e5_str = '(0.6 - tol <= x[0] && x[0] <= 0.8 + tol && 1.-h - tol <= x[1] && x[1] <= 1. + tol) ? 1. : 0.'\n",
    "e5 = fn.Expression(e5_str,degree=0,h=h,tol=tol)\n",
    "#\n",
    "e6_str = '(0.2 - tol <= x[0] && x[0] <= 0.4 + tol && 1.-h - tol <= x[1] && x[1] <= 1. + tol) ? 1. : 0.'\n",
    "e6 = fn.Expression(e6_str,degree=0,h=h,tol=tol)\n",
    "# left\n",
    "e7_str = '(0. - tol <= x[0] && x[0] <= h + tol && 0.6 - tol <= x[1] && x[1] <= 0.8 + tol) ? 1. : 0.'\n",
    "e7 = fn.Expression(e7_str,degree=0,h=h,tol=tol)\n",
    "#\n",
    "e8_str = '(0. - tol <= x[0] && x[0] <= h + tol && 0.2 - tol <= x[1] && x[1] <= 0.4 + tol) ? 1. : 0.'\n",
    "e8 = fn.Expression(e8_str,degree=0,h=h,tol=tol)\n",
    "# This works better (it doesn't depend on the mesh)\n",
    "e_list = [e1,e2,e3,e4,e5,e6,e7,e8]\n",
    "# electrodes number\n",
    "L = len(e_list)"
   ]
  },
  {
   "cell_type": "code",
   "execution_count": 10,
   "id": "acdb86b9",
   "metadata": {},
   "outputs": [
    {
     "data": {
      "image/png": "[encoded data removed]",
      "text/plain": [
       "<Figure size 1152x360 with 8 Axes>"
      ]
     },
     "metadata": {
      "needs_background": "light"
     },
     "output_type": "display_data"
    }
   ],
   "source": [
    "plt.figure(figsize=(16,5))\n",
    "for i in range(8):\n",
    "    plt.subplot(2, 4, i+1)\n",
    "    e_ = fn.Function(Uh)\n",
    "    e_.assign(e_list[i])\n",
    "    pp = fn.plot(e_)\n",
    "    plt.axis('off')\n",
    "    plt.title(\"Electrode: %i\" % (i+1))"
   ]
  },
  {
   "cell_type": "markdown",
   "id": "e09acdbc",
   "metadata": {},
   "source": [
    "**Trial and test functions**"
   ]
  },
  {
   "cell_type": "code",
   "execution_count": 11,
   "id": "4c3fa86d",
   "metadata": {},
   "outputs": [],
   "source": [
    "uh, vh = fn.TrialFunction(Uh), fn.TestFunction(Uh)"
   ]
  },
  {
   "cell_type": "markdown",
   "id": "000f362f",
   "metadata": {},
   "source": [
    "**B matrices (checked!)**"
   ]
  },
  {
   "cell_type": "markdown",
   "id": "0a6d3da7",
   "metadata": {},
   "source": [
    "**Variational Formulation:**\n",
    "Find $(u,\\vec U) \\in \\mathbb{H}^1\\times \\mathbb{R}^{L}$ such that:\n",
    "$$\\int_{\\Omega} \\gamma(x)\\nabla u \\cdot \\nabla v\\,dx + \\sum_{\\ell=1}^{L}\\int_{e_\\ell} \\frac{1}{z_\\ell} (u - U_\\ell)(v - V_\\ell)\\, dS = \\sum_{\\ell=1}^{L} I_\\ell V_\\ell, $$\n",
    "for all $(v,\\vec V)\\in \\mathbb{H}^{1}\\times \\mathbb{R}^{L}$."
   ]
  },
  {
   "cell_type": "markdown",
   "id": "702155a1",
   "metadata": {},
   "source": [
    "$$B_{ij} = \\sum_{k=1}^{N}\\gamma_k\\underbrace{\\int_{\\Omega_k} \\nabla \\varphi_i \\cdot \\nabla \\varphi_j\\,dx}_{B_{\\Omega_k}} + \\sum_{\\ell=1}^{L}\\underbrace{\\int_{e_\\ell} \\frac{1}{z_\\ell} \\varphi_i \\varphi_j\\, dS}_{B_{e_\\ell}}  $$"
   ]
  },
  {
   "cell_type": "code",
   "execution_count": 12,
   "id": "3e64b2b8",
   "metadata": {},
   "outputs": [],
   "source": [
    "#\n",
    "B_Omega_list = []\n",
    "for idx in range(N_Omega):\n",
    "    B_Omega_list.append(sp.csr_matrix(fn.assemble(Omega_list[idx]*fn.inner(fn.grad(uh),fn.grad(vh))*(fn.dx)).array()))\n",
    "#\n",
    "B_bound = 0.\n",
    "for l in range(L):\n",
    "    B_bound += sp.csr_matrix(fn.assemble(uh*vh*e_list[l]*(fn.ds)).array())    "
   ]
  },
  {
   "cell_type": "markdown",
   "id": "e6c4a7ec",
   "metadata": {},
   "source": [
    "**C matrix (checked!)**"
   ]
  },
  {
   "cell_type": "markdown",
   "id": "b779133d",
   "metadata": {},
   "source": [
    "$$C_{ij} = -\\left( \\frac{1}{z_1}\\int_{e_1} \\varphi_i\\, dS - \\frac{1}{z_{j+1}}\\int_{e_{j+1}} \\varphi_i\\,\\right) = \\int_{e_{j+1}} \\varphi_i - \\int_{e_1} \\varphi_i$$"
   ]
  },
  {
   "cell_type": "code",
   "execution_count": 13,
   "id": "438a814a",
   "metadata": {},
   "outputs": [],
   "source": [
    "C = np.zeros((DofUh,L-1))\n",
    "for j in range(L-1):\n",
    "    aux = fn.assemble(uh*e_list[j+1]*(fn.ds))[:] - fn.assemble(uh*e_list[0]*(fn.ds))[:]\n",
    "    C[:,j] = aux\n",
    "C = sp.csr_matrix(C)\n",
    "#print(C.todense())\n",
    "#print(C.shape)"
   ]
  },
  {
   "cell_type": "markdown",
   "id": "95f7ddd0",
   "metadata": {},
   "source": [
    "**G matrix (checked!)**"
   ]
  },
  {
   "cell_type": "markdown",
   "id": "42fbe1ac",
   "metadata": {},
   "source": [
    "$$G_{i,j} = \\sum_{\\ell=1}^{L} \\frac{1}{z_\\ell}\\int_{e_\\ell} (n_i)_\\ell (n_j)_\\ell = \n",
    "\\begin{cases} \n",
    "\\frac{|e_1|}{z_1}, & i\\neq j \\\\ \n",
    "\\frac{|e_1|}{z_1} + \\frac{|e_{j+1}|}{z_{j+1}}, & i=j\n",
    "\\end{cases}\n",
    "$$\n",
    "where $n_j = (1,0,\\dots,\\underbrace{-1}_{(j+1)-th},\\dots,0) \\in \\mathbb{R}^L$ with $j=1,\\dots,L-1$.\n",
    "\n",
    "It seems that $|e_i| := \\int_{e_i} 1\\, dS$ (Zamora - page 26)"
   ]
  },
  {
   "cell_type": "code",
   "execution_count": 14,
   "id": "128e2d98",
   "metadata": {},
   "outputs": [
    {
     "name": "stdout",
     "output_type": "stream",
     "text": [
      "electrode length: 0.2\n"
     ]
    }
   ],
   "source": [
    "#\n",
    "u_aux = fn.Function(Uh)\n",
    "u_aux.vector()[:] = 1\n",
    "e_length = fn.assemble(u_aux*e_list[0]*(fn.ds))\n",
    "print('electrode length:',e_length)\n",
    "#\n",
    "G = e_length*np.ones((L-1,L-1))\n",
    "for l in range(L-1):\n",
    "    G[l,l] += e_length\n",
    "G = sp.csr_matrix(G)\n",
    "#print(G.todense())\n",
    "#print(G.shape)"
   ]
  },
  {
   "cell_type": "markdown",
   "id": "1921e7e9",
   "metadata": {},
   "source": [
    "**RHS**"
   ]
  },
  {
   "cell_type": "markdown",
   "id": "4809dd8b",
   "metadata": {},
   "source": [
    "$\\mathcal{C}$ matrix (caligraphic C)"
   ]
  },
  {
   "cell_type": "code",
   "execution_count": 15,
   "id": "fe268c1f",
   "metadata": {
    "scrolled": true
   },
   "outputs": [],
   "source": [
    "calC = np.zeros((L,L-1))\n",
    "for j in range(L-1):\n",
    "    calC[j+1,j] = -1\n",
    "    calC[0,j] = 1\n",
    "#print(calC)\n",
    "#print(calC.shape)"
   ]
  },
  {
   "cell_type": "markdown",
   "id": "b0101753",
   "metadata": {},
   "source": [
    "**current**"
   ]
  },
  {
   "cell_type": "code",
   "execution_count": 16,
   "id": "3e431dd2",
   "metadata": {},
   "outputs": [],
   "source": [
    "# single current\n",
    "I = np.array([1,-1,0,0,0,0,0,0])\n",
    "# List with all the currents\n",
    "I_list = []\n",
    "for idx in range(1,L):\n",
    "    I_aux = np.array([1,0,0,0,0,0,0,0])\n",
    "    I_aux[idx] = -1\n",
    "    I_list.append(I_aux)\n",
    "#print(I_list)"
   ]
  },
  {
   "cell_type": "markdown",
   "id": "255d1d6b",
   "metadata": {},
   "source": [
    "**FE solver**"
   ]
  },
  {
   "cell_type": "code",
   "execution_count": 17,
   "id": "10a185a5",
   "metadata": {},
   "outputs": [],
   "source": [
    "def MyFP_faster(gamma,I):\n",
    "    #\n",
    "    B = 0.\n",
    "    for idx in range(N_Omega):\n",
    "        B += gamma[idx]*B_Omega_list[idx]\n",
    "    B += B_bound\n",
    "    #\n",
    "    A = sp.bmat([[B, C], [C.transpose(), G]])\n",
    "    A = A.asformat(\"csr\")\n",
    "    #\n",
    "    hatI = np.matmul(calC.transpose(),I)\n",
    "    #\n",
    "    f = np.zeros(DofUh + L-1)\n",
    "    f[DofUh:] = hatI\n",
    "    #\n",
    "    b = spsolve(A,f)\n",
    "    alpha = b[:DofUh]\n",
    "    beta  = b[DofUh:]\n",
    "    #\n",
    "    U_volts = np.matmul(calC,beta)\n",
    "    #\n",
    "    return alpha, beta, U_volts"
   ]
  },
  {
   "cell_type": "code",
   "execution_count": 18,
   "id": "0da035d1",
   "metadata": {},
   "outputs": [
    {
     "name": "stdout",
     "output_type": "stream",
     "text": [
      "time 0.12144827842712402 [s]\n",
      "[ 5.68974379 -5.68974379 -0.22291324 -0.07079444 -0.02684952  0.02684952\n",
      "  0.07079444  0.22291324]\n"
     ]
    }
   ],
   "source": [
    "t0 = time()\n",
    "alpha, _, U_volts = MyFP_faster(gamma,I)\n",
    "print('time',time() - t0,'[s]')\n",
    "print(U_volts)"
   ]
  },
  {
   "cell_type": "code",
   "execution_count": 19,
   "id": "65d4b17f",
   "metadata": {},
   "outputs": [
    {
     "data": {
      "image/png": "[encoded data removed]",
      "text/plain": [
       "<Figure size 432x288 with 1 Axes>"
      ]
     },
     "metadata": {
      "needs_background": "light"
     },
     "output_type": "display_data"
    }
   ],
   "source": [
    "uh_sol = fn.Function(Uh)\n",
    "uh_sol.vector()[:] = alpha\n",
    "fn.plot(uh_sol)\n",
    "plt.show()"
   ]
  },
  {
   "cell_type": "markdown",
   "id": "17ba942f",
   "metadata": {},
   "source": [
    "**Save results**"
   ]
  },
  {
   "cell_type": "code",
   "execution_count": 20,
   "id": "bae5cfcc",
   "metadata": {},
   "outputs": [],
   "source": [
    "with open('output.txt','a') as file:\n",
    "    #file.write(' '.join(map(str, U_volts)) + '\\n')\n",
    "    file.write(f'\\n')\n",
    "    for item in U_volts:\n",
    "        file.write(f'{item:.18e} ')"
   ]
  }
 ],
 "metadata": {
  "kernelspec": {
   "display_name": "fn-tf-linux-env",
   "language": "python",
   "name": "fn-tf-linux-env"
  },
  "language_info": {
   "codemirror_mode": {
    "name": "ipython",
    "version": 3
   },
   "file_extension": ".py",
   "mimetype": "text/x-python",
   "name": "python",
   "nbconvert_exporter": "python",
   "pygments_lexer": "ipython3",
   "version": "3.9.13"
  }
 },
 "nbformat": 4,
 "nbformat_minor": 5
}
